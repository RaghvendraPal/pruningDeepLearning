{
 "cells": [
  {
   "cell_type": "markdown",
   "metadata": {
    "colab_type": "text",
    "id": "0DBJnPk6-XpR"
   },
   "source": [
    "# **PRUNING CHALLENGE**"
   ]
  },
  {
   "cell_type": "markdown",
   "metadata": {
    "colab_type": "text",
    "id": "P6vCBxhx-qH6"
   },
   "source": [
    "## **INTRODUCTION**"
   ]
  },
  {
   "cell_type": "markdown",
   "metadata": {
    "colab_type": "text",
    "id": "NyDf2lVJ_tjl"
   },
   "source": [
    "The goal of this assignment is to test two method of pruning to improve the performance of model using less number of weights and neuron unit.\n",
    "\n",
    "### **Pruning Method** :\n",
    "\n",
    "1.  Weight Pruning\n",
    "2.  Unit Pruning (Neuron Pruning)"
   ]
  },
  {
   "cell_type": "markdown",
   "metadata": {
    "colab_type": "text",
    "id": "N-CsQR5_AFyf"
   },
   "source": [
    "**Our Goal in this assignment** :\n",
    "\n",
    "1 .Construct a ReLU-activated neural network with four hidden layers with sizes [1000, 1000, 500, 200]. Note: you’ll have a fifth layer for your output logits, which you will have 10 of.\n",
    "2. Train your network on MNIST or Fashion-MNIST (your choice, whatever is easier)\n",
    "3. Prune away (set to zero) the k% of weights using weight and unit pruning for k in [0, 25,50, 60, 70, 80, 90, 95, 97, 99]. Remember not to prune the weights leading to the output logits.\n",
    "4. Create a table or plot showing the percent sparsity (number of weights in your network that are zero) versus percent accuracy with two curves (one for weight pruning and one for unit pruning).\n",
    "5. Make the code clean and readable. Add comments where needed. "
   ]
  },
  {
   "cell_type": "markdown",
   "metadata": {},
   "source": [
    "### SUBMISSION"
   ]
  },
  {
   "cell_type": "markdown",
   "metadata": {
    "colab_type": "text",
    "id": "W5-wm7bmA2ld"
   },
   "source": [
    "Please email a zip file with the following contents:\n",
    "1. Your Jupyter Notebook\n",
    "2. A word document with the results you observed. What interesting insights did you find? Do the curves differ? Why do you think that is/isn’t? Do you have any hypotheses as to why we are able to delete so much of the network without hurting performance (this is an open research question)? Write a description of roughly 200 words.\n",
    "3. Include the following header in the results word document mentioned above:\n",
    "Name:\n",
    "College/graduating year/GPA:\n",
    "Phone number:\n",
    "Email ID:\n",
    "4. Name of the ZIP file should be firstname_collegename.zip. For instance, if my name is John and I’m from IIT Bombay then the submission file should be called john_iitbombay.zip"
   ]
  },
  {
   "cell_type": "markdown",
   "metadata": {
    "colab_type": "text",
    "id": "SqLXDgIdBSed"
   },
   "source": [
    "#### **To complete the assignment I have used CPU because dataset was not so much large, So i am able to run the whole dataset in CPU only.**\n",
    "#### **I have used MNIST Dataset to perform pruning.**"
   ]
  },
  {
   "cell_type": "code",
   "execution_count": 0,
   "metadata": {
    "colab": {},
    "colab_type": "code",
    "id": "xbjhs9YQS8Uv"
   },
   "outputs": [],
   "source": [
    "USE_GPU = False\n",
    "DATASET = 'mnist' # must be one of ('mnist', 'fashion-mnist')\n",
    "NUM_EPOCHS = 10   # NUM_EPOCHS specify the number of times you want to train the model\n",
    "BATCH_SIZE = 64   # BATCH_SIZE defines the size of input data in one run\n",
    "PRUNING_PERCENTAGES = [0, 25, 50, 60, 70, 80, 90, 95, 97, 99]  # PRUNING_PERCENTAGES will tells that how much percentage of weights or neuron you need to skip or make 0."
   ]
  },
  {
   "cell_type": "markdown",
   "metadata": {
    "colab_type": "text",
    "id": "F6BM0OPMDKov"
   },
   "source": [
    "### **LIBRARIES USED**"
   ]
  },
  {
   "cell_type": "code",
   "execution_count": 2,
   "metadata": {
    "colab": {
     "base_uri": "https://localhost:8080/",
     "height": 64
    },
    "colab_type": "code",
    "id": "Butoyqg0TfZr",
    "outputId": "14d0a949-ea35-42ef-b069-06282d591c69"
   },
   "outputs": [
    {
     "data": {
      "text/html": [
       "<p style=\"color: red;\">\n",
       "The default version of TensorFlow in Colab will soon switch to TensorFlow 2.x.<br>\n",
       "We recommend you <a href=\"https://www.tensorflow.org/guide/migrate\" target=\"_blank\">upgrade</a> now \n",
       "or ensure your notebook will continue to use TensorFlow 1.x via the <code>%tensorflow_version 1.x</code> magic:\n",
       "<a href=\"https://colab.research.google.com/notebooks/tensorflow_version.ipynb\" target=\"_blank\">more info</a>.</p>\n"
      ],
      "text/plain": [
       "<IPython.core.display.HTML object>"
      ]
     },
     "metadata": {
      "tags": []
     },
     "output_type": "display_data"
    }
   ],
   "source": [
    "# from __future__ import annotations\n",
    "\n",
    "from typing import List, Callable, Mapping, Tuple\n",
    "\n",
    "import os\n",
    "import time\n",
    "from collections import defaultdict\n",
    "\n",
    "import matplotlib.pyplot as plt\n",
    "import numpy as np\n",
    "import pandas as pd\n",
    "import seaborn as sns\n",
    "import tensorflow as tf\n",
    "from tqdm import tqdm\n",
    "from numpy import linalg as LA"
   ]
  },
  {
   "cell_type": "markdown",
   "metadata": {
    "colab_type": "text",
    "id": "m_nLtBkxJtkC"
   },
   "source": [
    "### **DATASET**"
   ]
  },
  {
   "cell_type": "code",
   "execution_count": 0,
   "metadata": {
    "colab": {},
    "colab_type": "code",
    "id": "i2PsF2uDUA4L"
   },
   "outputs": [],
   "source": [
    "def get_dataset(dataset_name):\n",
    "    \"\"\"Function is used to get the dataset of MNIST or FASHION MNIST\n",
    "    \n",
    "    Args:\n",
    "        dataset_name: Name of a dataset. Must be one of (`mnist`, `fashion-mnist`)\n",
    "        \n",
    "    Returns:\n",
    "        dict: dict contains following entries:\n",
    "            dict['shape'] (Tuple[int, int]) - shape of the images in the dataset,\n",
    "            dict['train'] (tf.data.Dataset) - train dataset,\n",
    "            dict['train'] (tf.data.Dataset) - test dataset.\n",
    "    \"\"\"\n",
    "    dataset = {\n",
    "        'mnist': tf.keras.datasets.mnist,\n",
    "        'fashion-mnist': tf.keras.datasets.fashion_mnist\n",
    "    }\n",
    "\n",
    "    (train_images, train_labels), (test_images, test_labels) = dataset[dataset_name].load_data()\n",
    "    train_images, test_images = (train_images / 255).astype(np.float32), (test_images / 255).astype(np.float32)\n",
    "    train_dataset = tf.data.Dataset.from_tensor_slices((train_images, train_labels)).batch(BATCH_SIZE)  # code will divide input data into unit of BATCH SIZE\n",
    "    test_dataset = tf.data.Dataset.from_tensor_slices((test_images, test_labels)).batch(BATCH_SIZE)\n",
    "    return {\n",
    "        'shape': train_images.shape[1:],\n",
    "        'train': train_dataset,\n",
    "        'test': test_dataset\n",
    "    }"
   ]
  },
  {
   "cell_type": "markdown",
   "metadata": {
    "colab_type": "text",
    "id": "FUEdJUayJaCj"
   },
   "source": [
    "### **DENSE MODEL**\n",
    "##### Simple MLP network with 4 hidden layers with 1000, 1000, 500 and 200 neurons respectively. Every hidden layer uses relu activation function. Model returns ouput for 10 classes after softmax."
   ]
  },
  {
   "cell_type": "code",
   "execution_count": 0,
   "metadata": {
    "colab": {},
    "colab_type": "code",
    "id": "JoaEajO7UKqR"
   },
   "outputs": [],
   "source": [
    "def get_dense_model(input_shape, hidden_sizes = [1000, 1000, 500, 200]):\n",
    "    \"\"\"Function is used to create the BASE MODEL\n",
    "    \n",
    "    Args:\n",
    "        input_shape (Tuple[int, int]): Dimensions of an input image.\n",
    "        \n",
    "    Returns:\n",
    "         Model:  MLP network with 4 hidden layers with 1000, 1000, 500 and 200 neurons respectively.\n",
    "    \"\"\"\n",
    "    dense_model = tf.keras.Sequential([\n",
    "        tf.keras.layers.Flatten(input_shape=input_shape),\n",
    "        *[tf.keras.layers.Dense(hidden_size, activation='relu', use_bias=False, kernel_initializer = tf.keras.initializers.he_normal(seed=None)) for hidden_size in hidden_sizes],\n",
    "        tf.keras.layers.Dense(10, activation='softmax', use_bias=False),\n",
    "    ])\n",
    "\n",
    "    dense_model.compile(\n",
    "        optimizer=tf.keras.optimizers.Adam(),\n",
    "        loss=tf.keras.losses.SparseCategoricalCrossentropy(),\n",
    "        metrics=[tf.keras.metrics.SparseCategoricalAccuracy()],\n",
    "    )\n",
    "    return dense_model"
   ]
  },
  {
   "cell_type": "markdown",
   "metadata": {
    "colab_type": "text",
    "id": "OtoHs7J7LAH-"
   },
   "source": [
    "### **TRANING THE MODEL**"
   ]
  },
  {
   "cell_type": "code",
   "execution_count": 67,
   "metadata": {
    "colab": {
     "base_uri": "https://localhost:8080/",
     "height": 426
    },
    "colab_type": "code",
    "id": "JFXA3cI9UGYN",
    "outputId": "7b3f1c92-4a81-4264-e3a0-5ffbe55fc09a"
   },
   "outputs": [
    {
     "name": "stdout",
     "output_type": "stream",
     "text": [
      "WARNING:tensorflow:Expected a shuffled dataset but input dataset `x` is not shuffled. Please invoke `shuffle()` on input dataset.\n",
      "Train on 938 steps\n",
      "Epoch 1/10\n",
      "938/938 [==============================] - 17s 18ms/step - loss: 0.2157 - sparse_categorical_accuracy: 0.9347\n",
      "Epoch 2/10\n",
      "938/938 [==============================] - 17s 18ms/step - loss: 0.0951 - sparse_categorical_accuracy: 0.9721\n",
      "Epoch 3/10\n",
      "938/938 [==============================] - 17s 18ms/step - loss: 0.0675 - sparse_categorical_accuracy: 0.9798\n",
      "Epoch 4/10\n",
      "938/938 [==============================] - 17s 18ms/step - loss: 0.0547 - sparse_categorical_accuracy: 0.9832\n",
      "Epoch 5/10\n",
      "938/938 [==============================] - 17s 18ms/step - loss: 0.0469 - sparse_categorical_accuracy: 0.9864\n",
      "Epoch 6/10\n",
      "938/938 [==============================] - 17s 18ms/step - loss: 0.0346 - sparse_categorical_accuracy: 0.9896\n",
      "Epoch 7/10\n",
      "938/938 [==============================] - 17s 18ms/step - loss: 0.0317 - sparse_categorical_accuracy: 0.9906\n",
      "Epoch 8/10\n",
      "938/938 [==============================] - 16s 18ms/step - loss: 0.0283 - sparse_categorical_accuracy: 0.9911\n",
      "Epoch 9/10\n",
      "938/938 [==============================] - 17s 18ms/step - loss: 0.0300 - sparse_categorical_accuracy: 0.9920\n",
      "Epoch 10/10\n",
      "938/938 [==============================] - 17s 18ms/step - loss: 0.0270 - sparse_categorical_accuracy: 0.9929\n",
      "Loss: 0.11367851861702942, Accuracy: 0.9787999987602234\n"
     ]
    }
   ],
   "source": [
    "\n",
    "dataset = get_dataset(DATASET)  # get the data\n",
    "dense_model = get_dense_model(dataset['shape']) # create a model\n",
    "\n",
    "# this code is used to train the model on data\n",
    "dense_model.fit(\n",
    "    dataset['train'],\n",
    "    epochs=NUM_EPOCHS\n",
    ")\n",
    "\n",
    "# get the weights of the model\n",
    "original_weights = dense_model.get_weights()\n",
    "\n",
    "# test the trained model on test data and got the loss and accuracy\n",
    "loss, acc = dense_model.evaluate(dataset['test'], verbose=False)\n",
    "print(\"Loss: {loss}, Accuracy: {acc}\")"
   ]
  },
  {
   "cell_type": "code",
   "execution_count": 68,
   "metadata": {
    "colab": {
     "base_uri": "https://localhost:8080/",
     "height": 1119
    },
    "colab_type": "code",
    "id": "BUuF2xgHsw-p",
    "outputId": "3eba94e7-9c89-4941-9c6a-83acf2343831"
   },
   "outputs": [
    {
     "name": "stdout",
     "output_type": "stream",
     "text": [
      "0x7fb7535a52c8 0x7fb7535a5388\n",
      "[array([[ 0.02360198,  0.06782135, -0.0653123 , ...,  0.02413504,\n",
      "         0.02080449, -0.055004  ],\n",
      "       [ 0.0382887 , -0.06574985, -0.08584944, ..., -0.01029761,\n",
      "         0.08780684,  0.00215984],\n",
      "       [-0.00433097, -0.03110573, -0.10915792, ...,  0.07474329,\n",
      "         0.04763312, -0.00640799],\n",
      "       ...,\n",
      "       [-0.03067203,  0.00474661,  0.0280134 , ...,  0.00521061,\n",
      "        -0.09566346,  0.04101371],\n",
      "       [-0.07465428, -0.05510021, -0.03457761, ..., -0.10573369,\n",
      "        -0.11289019,  0.01157712],\n",
      "       [-0.04663521,  0.01092986,  0.01004729, ...,  0.01621566,\n",
      "        -0.08430255,  0.01698193]], dtype=float32), array([[ 2.9650182e-02,  5.1070001e-02, -9.8647192e-02, ...,\n",
      "         5.5224203e-02,  4.1545838e-02, -3.4427665e-02],\n",
      "       [ 7.4229039e-02,  9.8447278e-02, -2.8017776e-02, ...,\n",
      "         1.4061069e-01, -1.4491164e-02, -9.0329491e-02],\n",
      "       [-4.6449881e-02,  7.4491315e-02,  4.5851994e-02, ...,\n",
      "        -8.4625639e-02, -6.8709567e-02, -2.2710605e-02],\n",
      "       ...,\n",
      "       [ 1.3905777e-02, -1.2640113e-02,  2.9158903e-02, ...,\n",
      "        -7.9287565e-05, -8.0063686e-02,  1.1224710e-01],\n",
      "       [-9.1867849e-02,  1.5953426e-03, -1.1802519e-02, ...,\n",
      "        -9.6210264e-02, -2.2532638e-02, -6.4298153e-02],\n",
      "       [ 6.0675289e-03,  3.9893530e-02, -2.4377162e-02, ...,\n",
      "         4.5684382e-02, -1.4748903e-03, -1.2719691e-03]], dtype=float32), array([[-0.05365605, -0.0693698 , -0.00375246, ...,  0.01690809,\n",
      "        -0.03506139,  0.05757568],\n",
      "       [ 0.017392  ,  0.01495021,  0.00659239, ...,  0.00801556,\n",
      "         0.039048  , -0.05280792],\n",
      "       [-0.08563794, -0.14023256, -0.07030381, ..., -0.1022266 ,\n",
      "         0.01826433,  0.0225212 ],\n",
      "       ...,\n",
      "       [ 0.00187338, -0.00730003, -0.06265502, ...,  0.04320114,\n",
      "         0.19980752,  0.05600621],\n",
      "       [ 0.013513  ,  0.05613682, -0.06347091, ...,  0.05980379,\n",
      "        -0.06130151, -0.05969233],\n",
      "       [-0.00077949, -0.01835327, -0.02719301, ...,  0.07954167,\n",
      "         0.11044829, -0.04212688]], dtype=float32), array([[-0.02683541, -0.02683448,  0.00904212, ..., -0.02832113,\n",
      "         0.0969409 ,  0.00868187],\n",
      "       [-0.07606823, -0.01660063, -0.03461683, ...,  0.10091384,\n",
      "        -0.04566132,  0.04315228],\n",
      "       [-0.00444622, -0.06053121, -0.0196638 , ..., -0.10801031,\n",
      "        -0.07414675,  0.01093072],\n",
      "       ...,\n",
      "       [ 0.03836271, -0.01659847,  0.08446819, ...,  0.13315386,\n",
      "         0.08058876,  0.02300453],\n",
      "       [-0.04137483, -0.08653767, -0.08344503, ...,  0.00219043,\n",
      "        -0.0962845 , -0.11363805],\n",
      "       [-0.0726236 ,  0.05811715,  0.04812706, ..., -0.01891215,\n",
      "        -0.10898963,  0.00315849]], dtype=float32), array([[-0.05211014, -0.21191707,  0.09044824, ...,  0.07496904,\n",
      "         0.08789577,  0.08002961],\n",
      "       [-0.24914217,  0.06268151,  0.09029813, ...,  0.1174761 ,\n",
      "         0.13012753, -0.22703168],\n",
      "       [-0.09953356, -0.01794678, -0.0689291 , ..., -0.283663  ,\n",
      "         0.037033  , -0.09807029],\n",
      "       ...,\n",
      "       [-0.17005332, -0.21234687,  0.02990772, ..., -0.36781707,\n",
      "        -0.15539536,  0.00218546],\n",
      "       [-0.1274026 , -0.04132045,  0.07577723, ..., -0.14598991,\n",
      "         0.06539557, -0.02540577],\n",
      "       [-0.01573951,  0.0071615 ,  0.01330786, ..., -0.0156802 ,\n",
      "        -0.1906879 ,  0.00964486]], dtype=float32)]\n"
     ]
    }
   ],
   "source": [
    "# Copy the weights to another variable for further use\n",
    "weights_copy1 = dense_model.get_weights()[:]\n",
    "weights_copy2 = weights_copy1[:]\n",
    "original_weights = weights_copy[:]\n",
    "print(hex(id(weights_copy1)), hex(id(weights_copy2)))\n",
    "print(weights_copy1)"
   ]
  },
  {
   "cell_type": "markdown",
   "metadata": {
    "colab_type": "text",
    "id": "gOCvt5McKATV"
   },
   "source": [
    " ### **SPARSE MODE**\n",
    "\n",
    "**1. for weight model i have used weight_pruning function inside pruining class**"
   ]
  },
  {
   "cell_type": "code",
   "execution_count": 0,
   "metadata": {
    "colab": {},
    "colab_type": "code",
    "id": "WjVMlI4-dwAP"
   },
   "outputs": [],
   "source": [
    "class pruning:\n",
    "\n",
    "  ''' class pruning is use to get sparse weight for weight pruning and store accuracy, loss and time data in dictionary to further use for comparision'''\n",
    "\n",
    "    def __init__(self, original_weights):\n",
    "      # initialize the metrics dictionary, this is generally a dictionary of lists\n",
    "        self.metrics = defaultdict(list)\n",
    "        self.sparse_model = None\n",
    "        self.original_weights = original_weights\n",
    "    def weight_pruning(self, perc):\n",
    "      ''' Function will return weights for a model after applying perc of weight pruning\n",
    "      \n",
    "      Args:\n",
    "        input_shape (int]): percentage of pruning\n",
    "        \n",
    "    Returns:\n",
    "         Weights for the model after pruning\n",
    "      '''\n",
    "\n",
    "        weights = []\n",
    "        # print(type(weights))\n",
    "        for index in range(0,len(self.original_weights)-1):\n",
    "          # here we have not used the last layer output because we will not prune the final weight matrix leading to the logits.\n",
    "            weights_shape = self.original_weights[index].shape  # getting the shape of input data for reshapping ahead\n",
    "            weights1 = np.ndarray.flatten(np.asarray(self.original_weights[index]))  # converting the input data to flat data for comparision\n",
    "            weights1[np.abs(weights1)<np.percentile(np.abs(weights1),perc)] = 0\n",
    "            weights1 = weights1.reshape(weights_shape)\n",
    "            weights.append(weights1)\n",
    "        weights.append(self.original_weights[len(self.original_weights)-1])\n",
    "        return weights\n",
    "\n",
    "    def copy_dense_model(self, dense_model):\n",
    "      # copy dense model to other variable for further use\n",
    "        self.sparse_model = dense_model\n",
    "        return self.sparse_model\n",
    "\n",
    "    def metric_add(self, loss, acc, time, type):\n",
    "      # function is use to store the loss, accuracy and time value in the dictionary\n",
    "        self.metrics['pruning_loss_'+type].append(loss)\n",
    "        self.metrics['pruning_acc_'+type].append(acc)\n",
    "        self.metrics['pruning_time_'+type].append(time)"
   ]
  },
  {
   "cell_type": "markdown",
   "metadata": {
    "colab_type": "text",
    "id": "huqjOpoOKjzW"
   },
   "source": [
    "**2. for neuron pruning i have used neuron_pruning function**"
   ]
  },
  {
   "cell_type": "code",
   "execution_count": 0,
   "metadata": {
    "colab": {},
    "colab_type": "code",
    "id": "8EhEc5GqQ5o9"
   },
   "outputs": [],
   "source": [
    "def neuron_pruning(perc):\n",
    "  ''' Function will return weights for a model after applying perc of neuron pruning\n",
    "      \n",
    "      Args:\n",
    "        input_shape (int]): percentage of pruning\n",
    "        \n",
    "    Returns:\n",
    "         Weights for the model after pruning\n",
    "      '''\n",
    "\n",
    "    weights = []\n",
    "    for index in range(0,len(weights_copy1)-1):\n",
    "        weight1 = np.asarray(weights_copy1[index])\n",
    "        norm1 = LA.norm(weight1, axis=0)\n",
    "        # below code is use to make weight value equal to zero if weight value is less than perc percentile value\n",
    "        weight1[:,np.argwhere(norm1<np.percentile(norm1,perc))] = 0\n",
    "        weights.append(weight1)\n",
    "    weights.append(weights_copy1[len(weights_copy1)-1])\n",
    "    return weights"
   ]
  },
  {
   "cell_type": "code",
   "execution_count": 78,
   "metadata": {
    "colab": {
     "base_uri": "https://localhost:8080/",
     "height": 35
    },
    "colab_type": "code",
    "id": "Dyd4iUfS89ux",
    "outputId": "6c337b01-f94d-4967-8ce0-6389c192fb65"
   },
   "outputs": [
    {
     "name": "stderr",
     "output_type": "stream",
     "text": [
      "100%|██████████| 10/10 [00:48<00:00,  4.84s/it]\n"
     ]
    }
   ],
   "source": [
    "prune_class = pruning(original_weights[:])\n",
    "for perc in tqdm(PRUNING_PERCENTAGES):\n",
    "  # loop will run for each pruning percentage\n",
    "    prune_class.metrics['pruning_percentage'].append(perc)\n",
    "\n",
    "  # Dense Model\n",
    "    dense_model.set_weights(original_weights)\n",
    "    # dense model will give loss , acc value for the dataset\n",
    "    start = time.process_time()\n",
    "    loss, acc = dense_model.evaluate(dataset['test'], verbose=False)\n",
    "    start = time.process_time() - start\n",
    "    prune_class.metric_add(loss, acc, start, \"dense\")\n",
    "\n",
    "  # Weight Model\n",
    "    weight_sparse_model = prune_class.copy_dense_model(dense_model)\n",
    "    weight_sparse_model.set_weights(prune_class.weight_pruning(perc))\n",
    "    # print(\"weight : \",weight_sparse_model.get_weights())\n",
    "    start = time.process_time()\n",
    "    loss, acc = weight_sparse_model.evaluate(dataset['test'], verbose=False)\n",
    "    start = time.process_time() - start\n",
    "    prune_class.metric_add(loss, acc, start, \"weight_sparse\")\n",
    "\n",
    "  # Neuron Model\n",
    "    neuron_sparse_model = prune_class.copy_dense_model(dense_model)\n",
    "    neuron_sparse_model.set_weights(neuron_pruning(perc))\n",
    "    # print(\"neuron : \",weight_sparse_model.get_weights())\n",
    "    start = time.process_time()\n",
    "    loss, acc = neuron_sparse_model.evaluate(dataset['test'], verbose=False)\n",
    "    start = time.process_time() - start\n",
    "    prune_class.metric_add(loss, acc, start, \"neuron_sparse\")\n",
    "\n",
    "\n",
    "\n",
    "  # weights = prune_class.weight_pruning(perc)"
   ]
  },
  {
   "cell_type": "markdown",
   "metadata": {
    "colab_type": "text",
    "id": "lVVA8P5BLMrd"
   },
   "source": [
    "### **PLOTS**"
   ]
  },
  {
   "cell_type": "code",
   "execution_count": 79,
   "metadata": {
    "colab": {
     "base_uri": "https://localhost:8080/",
     "height": 893
    },
    "colab_type": "code",
    "id": "4KlgLAAOpXVC",
    "outputId": "d15020e7-d61e-4c1d-a82b-360f8f42eea9"
   },
   "outputs": [
    {
     "data": {
      "image/png": "[encoded data removed]",
      "text/plain": [
       "<Figure size 720x1080 with 3 Axes>"
      ]
     },
     "metadata": {
      "tags": []
     },
     "output_type": "display_data"
    }
   ],
   "source": [
    "# Plotting the graph to compare the loss, accuracy and time of each model : dense, weighted and nuron pruned model.\n",
    "\n",
    "fig, ax = plt.subplots(3, figsize=(10,15))\n",
    "\n",
    "\n",
    "# Loss data\n",
    "ax[0].plot(prune_class.metrics['pruning_percentage'], prune_class.metrics['pruning_loss_weight_sparse'], 'o-', label='weight pruning (sparse)')\n",
    "ax[0].plot(prune_class.metrics['pruning_percentage'], prune_class.metrics['pruning_loss_neuron_sparse'], 'o-', label='neuron pruning (sparse)')\n",
    "ax[0].plot(prune_class.metrics['pruning_percentage'], prune_class.metrics['pruning_loss_dense'], 'o-', label='Dense without pruning')\n",
    "ax[0].set_title('Loss after pruning')\n",
    "ax[0].set_xlabel('Sparsity [%]')\n",
    "ax[0].set_ylabel('Loss')\n",
    "ax[0].legend()\n",
    "\n",
    "\n",
    "# Accuracy Data\n",
    "ax[1].plot(prune_class.metrics['pruning_percentage'], prune_class.metrics['pruning_acc_weight_sparse'], 'o-', label='weight pruning (sparse)')\n",
    "ax[1].plot(prune_class.metrics['pruning_percentage'], prune_class.metrics['pruning_acc_neuron_sparse'], 'o-', label='neuron pruning (sparse)')\n",
    "ax[1].plot(prune_class.metrics['pruning_percentage'], prune_class.metrics['pruning_acc_dense'], 'o-', label='Dense without pruning')\n",
    "ax[1].set_title('Accuracy after pruning')\n",
    "ax[1].set_xlabel('Sparsity [%]')\n",
    "ax[1].set_ylabel('Accuracy')\n",
    "ax[1].legend()\n",
    "\n",
    "\n",
    "# Time of each model\n",
    "ax[2].plot(prune_class.metrics['pruning_percentage'], prune_class.metrics['pruning_time_weight_sparse'], 'o-', label='weight pruning (sparse)')\n",
    "ax[2].plot(prune_class.metrics['pruning_percentage'], prune_class.metrics['pruning_time_neuron_sparse'], 'o-', label='neuron pruning (sparse)')\n",
    "ax[2].plot(prune_class.metrics['pruning_percentage'], prune_class.metrics['pruning_time_dense'], 'o-', label='Dense without pruning')\n",
    "# ax[2].plot(metrics['pruning_percentage'], metrics['weight_dense_dt'], 'o-', label='weight pruning (dense)')\n",
    "ax[2].set_title('Time of inference after pruning')\n",
    "ax[2].set_xlabel('Sparsity [%]')\n",
    "ax[2].set_ylabel('Inference time [s]')\n",
    "ax[2].legend()\n",
    "\n",
    "plt.show()"
   ]
  },
  {
   "cell_type": "markdown",
   "metadata": {
    "colab_type": "text",
    "id": "F-qbeuQmTRcs"
   },
   "source": [
    "### **CONCLUSION**"
   ]
  },
  {
   "cell_type": "markdown",
   "metadata": {
    "colab_type": "text",
    "id": "UCdjqRWvMmAs"
   },
   "source": [
    "From the loss and accuracy plot we can see that for weight pruning till 80% sparcity we are getting same loss and accuracy, So we can say 80 percentage of weights in our dense model are not useful to give same performance. They are just using space of disk and RAM.\n",
    "\n",
    "But for neuron pruning loss increases after 60 percentage of sparcity and accuracy start decreasing after 70 percentage of sparcity. \n",
    "\n",
    "After 80 percentage weight model performance is reduceing.\n",
    "Accuracy for weight pruning is reducing, because after 80% sparcity we are making imp weight to zero, and for neuron pruning we can say imp neuron are deleted.\n",
    "\n",
    " **But the Question here is why weight pruning is more effective here?**\n",
    "\n",
    "This may be because we are not removing the neurons in weight pruning, so some neurons may giving some amount of information for predicting right value and also in weight pruning we are making some weight value zero, so there may be possibility that some zero value weights are exchanging some useful information for predicting right class.\n",
    "\n",
    " **Neuron pruning** -: \n",
    "Neuron pruning is giving good peformance upto sparcity = 70 percentage. This may be because till sparcity our neuron is exchanging some useful information with the input data, which is useful for classificaton. But after 70% there may be possibility that our model got underfitting, which is predicting wrong output in train and test time.\n"
   ]
  },
  {
   "cell_type": "markdown",
   "metadata": {
    "colab_type": "text",
    "id": "oTlclV11Q2Gv"
   },
   "source": [
    "## **RETRAIN NEURON NETWORK**"
   ]
  },
  {
   "cell_type": "markdown",
   "metadata": {
    "colab_type": "text",
    "id": "0R3pkhfZP1UB"
   },
   "source": [
    "### **For futher analysis, i have tried to retrain the each sparcity value till 10 EPOCH size for neuron pruning.**"
   ]
  },
  {
   "cell_type": "code",
   "execution_count": 93,
   "metadata": {
    "colab": {
     "base_uri": "https://localhost:8080/",
     "height": 641
    },
    "colab_type": "code",
    "id": "HTyBj_57kVxX",
    "outputId": "f57e1955-6c51-46e0-b274-4e878eaa82fb"
   },
   "outputs": [
    {
     "name": "stderr",
     "output_type": "stream",
     "text": [
      "\n",
      "\n",
      "  0%|          | 0/10 [00:00<?, ?it/s]\u001b[A\u001b[A"
     ]
    },
    {
     "name": "stdout",
     "output_type": "stream",
     "text": [
      "WARNING:tensorflow:Expected a shuffled dataset but input dataset `x` is not shuffled. Please invoke `shuffle()` on input dataset.\n"
     ]
    },
    {
     "name": "stderr",
     "output_type": "stream",
     "text": [
      "\n",
      "\n",
      " 10%|█         | 1/10 [02:44<24:44, 164.96s/it]\u001b[A\u001b[A"
     ]
    },
    {
     "name": "stdout",
     "output_type": "stream",
     "text": [
      "WARNING:tensorflow:Expected a shuffled dataset but input dataset `x` is not shuffled. Please invoke `shuffle()` on input dataset.\n"
     ]
    },
    {
     "name": "stderr",
     "output_type": "stream",
     "text": [
      "\n",
      "\n",
      " 20%|██        | 2/10 [04:38<19:57, 149.65s/it]\u001b[A\u001b[A"
     ]
    },
    {
     "name": "stdout",
     "output_type": "stream",
     "text": [
      "WARNING:tensorflow:Expected a shuffled dataset but input dataset `x` is not shuffled. Please invoke `shuffle()` on input dataset.\n"
     ]
    },
    {
     "name": "stderr",
     "output_type": "stream",
     "text": [
      "\n",
      "\n",
      " 30%|███       | 3/10 [06:02<15:09, 129.96s/it]\u001b[A\u001b[A"
     ]
    },
    {
     "name": "stdout",
     "output_type": "stream",
     "text": [
      "WARNING:tensorflow:Expected a shuffled dataset but input dataset `x` is not shuffled. Please invoke `shuffle()` on input dataset.\n"
     ]
    },
    {
     "name": "stderr",
     "output_type": "stream",
     "text": [
      "\n",
      "\n",
      " 40%|████      | 4/10 [07:09<11:05, 110.97s/it]\u001b[A\u001b[A"
     ]
    },
    {
     "name": "stdout",
     "output_type": "stream",
     "text": [
      "WARNING:tensorflow:Expected a shuffled dataset but input dataset `x` is not shuffled. Please invoke `shuffle()` on input dataset.\n"
     ]
    },
    {
     "name": "stderr",
     "output_type": "stream",
     "text": [
      "\n",
      "\n",
      " 50%|█████     | 5/10 [08:03<07:49, 93.96s/it] \u001b[A\u001b[A"
     ]
    },
    {
     "name": "stdout",
     "output_type": "stream",
     "text": [
      "WARNING:tensorflow:Expected a shuffled dataset but input dataset `x` is not shuffled. Please invoke `shuffle()` on input dataset.\n"
     ]
    },
    {
     "name": "stderr",
     "output_type": "stream",
     "text": [
      "\n",
      "\n",
      " 60%|██████    | 6/10 [08:53<05:22, 80.62s/it]\u001b[A\u001b[A"
     ]
    },
    {
     "name": "stdout",
     "output_type": "stream",
     "text": [
      "WARNING:tensorflow:Expected a shuffled dataset but input dataset `x` is not shuffled. Please invoke `shuffle()` on input dataset.\n"
     ]
    },
    {
     "name": "stderr",
     "output_type": "stream",
     "text": [
      "\n",
      "\n",
      " 70%|███████   | 7/10 [09:35<03:27, 69.10s/it]\u001b[A\u001b[A"
     ]
    },
    {
     "name": "stdout",
     "output_type": "stream",
     "text": [
      "WARNING:tensorflow:Expected a shuffled dataset but input dataset `x` is not shuffled. Please invoke `shuffle()` on input dataset.\n"
     ]
    },
    {
     "name": "stderr",
     "output_type": "stream",
     "text": [
      "\n",
      "\n",
      " 80%|████████  | 8/10 [10:08<01:56, 58.20s/it]\u001b[A\u001b[A"
     ]
    },
    {
     "name": "stdout",
     "output_type": "stream",
     "text": [
      "WARNING:tensorflow:Expected a shuffled dataset but input dataset `x` is not shuffled. Please invoke `shuffle()` on input dataset.\n"
     ]
    },
    {
     "name": "stderr",
     "output_type": "stream",
     "text": [
      "\n",
      "\n",
      " 90%|█████████ | 9/10 [10:34<00:48, 48.60s/it]\u001b[A\u001b[A"
     ]
    },
    {
     "name": "stdout",
     "output_type": "stream",
     "text": [
      "WARNING:tensorflow:Expected a shuffled dataset but input dataset `x` is not shuffled. Please invoke `shuffle()` on input dataset.\n"
     ]
    },
    {
     "name": "stderr",
     "output_type": "stream",
     "text": [
      "\n",
      "\n",
      "100%|██████████| 10/10 [11:00<00:00, 41.68s/it]\u001b[A\u001b[A\n",
      "\n",
      "\u001b[A\u001b[A"
     ]
    }
   ],
   "source": [
    "for perc in tqdm(PRUNING_PERCENTAGES):\n",
    "    small_model = get_dense_model(dataset['shape'], hidden_sizes=(np.array([1000, 1000, 500, 200]) * ((100 - perc) / 100)).astype(np.int))\n",
    "    small_model.fit(\n",
    "        dataset['train'],\n",
    "        epochs=NUM_EPOCHS,\n",
    "        verbose=False\n",
    "    )\n",
    "    start = time.process_time()\n",
    "    loss, acc = small_model.evaluate(dataset['test'], verbose=False)\n",
    "    start = time.process_time() - start\n",
    "    prune_class.metric_add(loss, acc, start, \"small_weight\")"
   ]
  },
  {
   "cell_type": "code",
   "execution_count": 0,
   "metadata": {
    "colab": {},
    "colab_type": "code",
    "id": "f8zt9A7mc7OX"
   },
   "outputs": [],
   "source": [
    "# prune_class.metrics"
   ]
  },
  {
   "cell_type": "markdown",
   "metadata": {
    "colab_type": "text",
    "id": "bO-wkd4GRMrU"
   },
   "source": [
    "### **PLOT**"
   ]
  },
  {
   "cell_type": "code",
   "execution_count": 96,
   "metadata": {
    "colab": {
     "base_uri": "https://localhost:8080/",
     "height": 541
    },
    "colab_type": "code",
    "id": "dvuz_mQRct_u",
    "outputId": "a1b60f89-69cb-449c-d40b-2fe6f87dab81"
   },
   "outputs": [
    {
     "data": {
      "image/png": "[encoded data removed]",
      "text/plain": [
       "<Figure size 432x288 with 1 Axes>"
      ]
     },
     "metadata": {
      "tags": []
     },
     "output_type": "display_data"
    },
    {
     "data": {
      "image/png": "[encoded data removed]",
      "text/plain": [
       "<Figure size 432x288 with 1 Axes>"
      ]
     },
     "metadata": {
      "tags": []
     },
     "output_type": "display_data"
    }
   ],
   "source": [
    "plt.plot(prune_class.metrics['pruning_percentage'], prune_class.metrics['pruning_acc_neuron_sparse'], 'o-', label='Pruned Neuron')\n",
    "plt.plot(prune_class.metrics['pruning_percentage'], prune_class.metrics['pruning_acc_small_weight'], 'o-', label='Neuron Trained from scratch')\n",
    "plt.xlabel('Sparsity [%]')\n",
    "plt.ylabel('Accuracy')\n",
    "plt.legend()\n",
    "plt.show()\n",
    "\n",
    "plt.plot(prune_class.metrics['pruning_percentage'], prune_class.metrics['pruning_time_neuron_sparse'], 'o-', label='Pruned Neuron')\n",
    "plt.plot(prune_class.metrics['pruning_percentage'], prune_class.metrics['pruning_time_small_weight'], 'o-', label='Neuron Trained from scratch')\n",
    "plt.xlabel('Sparsity [%]')\n",
    "plt.ylabel('Time')\n",
    "plt.legend()\n",
    "plt.show()"
   ]
  },
  {
   "cell_type": "markdown",
   "metadata": {
    "colab_type": "text",
    "id": "K0jpoMTGRVbQ"
   },
   "source": [
    "#### 1. From the plot we can see that accuracy of the network improves for the sparcity value between 80 to 90 as compare normal sparse neuron pruned network.\n",
    "#### 2. Time taken to evaluate the test data also decreases in retrained model after 20 percentage of sparcity value. "
   ]
  },
  {
   "cell_type": "markdown",
   "metadata": {
    "colab_type": "text",
    "id": "KcRWmmImTo-q"
   },
   "source": [
    "### ** ***LIKE THIS WE CAN ALSO RETRAIN WEIGHT PRUNING NETWORK.***   **\n"
   ]
  }
 ],
 "metadata": {
  "accelerator": "GPU",
  "colab": {
   "collapsed_sections": [],
   "machine_shape": "hm",
   "name": "Weight and Neuron Pruning the network.ipynb",
   "provenance": []
  },
  "kernelspec": {
   "display_name": "Python 3",
   "language": "python",
   "name": "python3"
  },
  "language_info": {
   "codemirror_mode": {
    "name": "ipython",
    "version": 3
   },
   "file_extension": ".py",
   "mimetype": "text/x-python",
   "name": "python",
   "nbconvert_exporter": "python",
   "pygments_lexer": "ipython3",
   "version": "3.7.4"
  }
 },
 "nbformat": 4,
 "nbformat_minor": 1
}
